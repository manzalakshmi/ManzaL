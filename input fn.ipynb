{
 "cells": [
  {
   "cell_type": "code",
   "execution_count": 1,
   "id": "622d56cc-3ca5-4f8a-9764-2465ee421115",
   "metadata": {},
   "outputs": [
    {
     "name": "stdin",
     "output_type": "stream",
     "text": [
      " 2\n"
     ]
    }
   ],
   "source": [
    "x=input()"
   ]
  },
  {
   "cell_type": "code",
   "execution_count": 2,
   "id": "9ccaab73-3920-4523-a1a1-8caf6d90f7b8",
   "metadata": {},
   "outputs": [
    {
     "name": "stdout",
     "output_type": "stream",
     "text": [
      "2\n"
     ]
    }
   ],
   "source": [
    "print(x)"
   ]
  },
  {
   "cell_type": "code",
   "execution_count": 3,
   "id": "8b109ec6-24c9-428a-a2fa-dea5659da4f6",
   "metadata": {},
   "outputs": [
    {
     "name": "stdin",
     "output_type": "stream",
     "text": [
      "enter your name eeeee\n"
     ]
    }
   ],
   "source": [
    "x=input(\"enter your name\")"
   ]
  },
  {
   "cell_type": "code",
   "execution_count": 4,
   "id": "cd4726f2-ab88-4470-820f-d92b0dbb5d74",
   "metadata": {},
   "outputs": [
    {
     "data": {
      "text/plain": [
       "'eeeee'"
      ]
     },
     "execution_count": 4,
     "metadata": {},
     "output_type": "execute_result"
    }
   ],
   "source": [
    "x"
   ]
  },
  {
   "cell_type": "code",
   "execution_count": 5,
   "id": "d3486a83-d0bf-4b41-a2dd-c7c748aca95a",
   "metadata": {},
   "outputs": [
    {
     "name": "stdin",
     "output_type": "stream",
     "text": [
      "enter your name eeee\n",
      "enter date of birth rrrr\n",
      "enter phone number fff\n"
     ]
    }
   ],
   "source": [
    "x=input(\"enter your name\")\n",
    "y=input(\"enter date of birth\")\n",
    "z=input(\"enter phone number\")"
   ]
  },
  {
   "cell_type": "code",
   "execution_count": 6,
   "id": "1992b916-110b-400b-b132-5b4d889fe3c1",
   "metadata": {},
   "outputs": [
    {
     "name": "stdin",
     "output_type": "stream",
     "text": [
      "first number ww\n",
      "second number dsw\n"
     ]
    }
   ],
   "source": [
    "x=input(\"first number\")\n",
    "y=input(\"second number\")"
   ]
  },
  {
   "cell_type": "code",
   "execution_count": 7,
   "id": "f6a56ad3-8b66-40f9-ba0f-49eae49b10cd",
   "metadata": {},
   "outputs": [
    {
     "ename": "ValueError",
     "evalue": "invalid literal for int() with base 10: 'ww'",
     "output_type": "error",
     "traceback": [
      "\u001b[1;31m---------------------------------------------------------------------------\u001b[0m",
      "\u001b[1;31mValueError\u001b[0m                                Traceback (most recent call last)",
      "\u001b[1;32m<ipython-input-7-13db1b973866>\u001b[0m in \u001b[0;36m<module>\u001b[1;34m\u001b[0m\n\u001b[1;32m----> 1\u001b[1;33m \u001b[0mz\u001b[0m\u001b[1;33m=\u001b[0m\u001b[0mint\u001b[0m\u001b[1;33m(\u001b[0m\u001b[0mx\u001b[0m\u001b[1;33m)\u001b[0m\u001b[1;33m+\u001b[0m\u001b[0mint\u001b[0m\u001b[1;33m(\u001b[0m\u001b[0my\u001b[0m\u001b[1;33m)\u001b[0m\u001b[1;33m\u001b[0m\u001b[1;33m\u001b[0m\u001b[0m\n\u001b[0m",
      "\u001b[1;31mValueError\u001b[0m: invalid literal for int() with base 10: 'ww'"
     ]
    }
   ],
   "source": [
    "z=int(x)+int(y)"
   ]
  },
  {
   "cell_type": "code",
   "execution_count": null,
   "id": "7b32f1b0-a93c-4bca-bc69-5a3d84e604a6",
   "metadata": {},
   "outputs": [],
   "source": [
    "print(z)"
   ]
  },
  {
   "cell_type": "code",
   "execution_count": null,
   "id": "a18530a0-555a-413b-8758-204348603250",
   "metadata": {},
   "outputs": [],
   "source": [
    "type(x)"
   ]
  },
  {
   "cell_type": "code",
   "execution_count": null,
   "id": "4e7726a5-4030-4a27-841e-f326f700c7b1",
   "metadata": {},
   "outputs": [],
   "source": []
  },
  {
   "cell_type": "code",
   "execution_count": null,
   "id": "2ffcb01c-44b8-4d9a-966f-b6919072e45b",
   "metadata": {},
   "outputs": [],
   "source": [
    "x=\"india is my country\""
   ]
  },
  {
   "cell_type": "code",
   "execution_count": null,
   "id": "deafd1da-3671-475b-b92b-654f0273a9df",
   "metadata": {},
   "outputs": [],
   "source": [
    "x[0]"
   ]
  },
  {
   "cell_type": "code",
   "execution_count": null,
   "id": "168faea6-ada6-4693-8392-b3c5a8da2de6",
   "metadata": {},
   "outputs": [],
   "source": [
    "x[1]"
   ]
  },
  {
   "cell_type": "code",
   "execution_count": null,
   "id": "ada9baa1-8e24-4386-9fa2-bdfea400580c",
   "metadata": {},
   "outputs": [],
   "source": [
    "x[2]"
   ]
  },
  {
   "cell_type": "code",
   "execution_count": null,
   "id": "69880426-b923-4043-954a-c62e64fe4df9",
   "metadata": {},
   "outputs": [],
   "source": [
    "x[3]"
   ]
  },
  {
   "cell_type": "code",
   "execution_count": null,
   "id": "4a33224b-8296-492f-8bd9-7822ee57682c",
   "metadata": {},
   "outputs": [],
   "source": [
    "x[5]"
   ]
  },
  {
   "cell_type": "code",
   "execution_count": null,
   "id": "579e653c-e85d-45d8-a426-b9a28f30d91a",
   "metadata": {},
   "outputs": [],
   "source": [
    "x[12]"
   ]
  },
  {
   "cell_type": "code",
   "execution_count": null,
   "id": "e051248b-b0ff-4c17-ade5-bd84d609b691",
   "metadata": {},
   "outputs": [],
   "source": [
    "x[-1]"
   ]
  },
  {
   "cell_type": "code",
   "execution_count": null,
   "id": "9ae418d8-8620-4d01-9427-b1b92f2b3d07",
   "metadata": {},
   "outputs": [],
   "source": [
    "x[1:5]"
   ]
  },
  {
   "cell_type": "code",
   "execution_count": null,
   "id": "14c32a07-64ff-485a-902a-736ad07d73ba",
   "metadata": {},
   "outputs": [],
   "source": [
    "x[0]"
   ]
  },
  {
   "cell_type": "code",
   "execution_count": null,
   "id": "7cbfb20c-5062-4e2d-bf96-813a9b681b17",
   "metadata": {},
   "outputs": [],
   "source": [
    "x[4]"
   ]
  },
  {
   "cell_type": "code",
   "execution_count": null,
   "id": "b22eb57d-1b7e-4bd2-aee6-b7878baf3a69",
   "metadata": {},
   "outputs": [],
   "source": [
    "x[5]"
   ]
  },
  {
   "cell_type": "code",
   "execution_count": null,
   "id": "6ae91721-ff1f-461e-96ca-c491419832d8",
   "metadata": {},
   "outputs": [],
   "source": [
    "x[0:5]"
   ]
  },
  {
   "cell_type": "code",
   "execution_count": 8,
   "id": "05647842-ae0d-43f9-8052-75356e7908a2",
   "metadata": {},
   "outputs": [
    {
     "name": "stdin",
     "output_type": "stream",
     "text": [
      "p 5000\n"
     ]
    }
   ],
   "source": [
    "p=input(\"p\")"
   ]
  },
  {
   "cell_type": "code",
   "execution_count": 12,
   "id": "18920ee0-8146-460b-b0db-5ff34d7d43fa",
   "metadata": {},
   "outputs": [
    {
     "name": "stdin",
     "output_type": "stream",
     "text": [
      "r 0.05\n"
     ]
    }
   ],
   "source": [
    "r=input(\"r\")"
   ]
  },
  {
   "cell_type": "code",
   "execution_count": 13,
   "id": "f9246f24-33a4-419d-ba84-0fc3ee4069e2",
   "metadata": {},
   "outputs": [
    {
     "ename": "NameError",
     "evalue": "name 'n' is not defined",
     "output_type": "error",
     "traceback": [
      "\u001b[1;31m---------------------------------------------------------------------------\u001b[0m",
      "\u001b[1;31mNameError\u001b[0m                                 Traceback (most recent call last)",
      "\u001b[1;32m<ipython-input-13-55a3d23afa44>\u001b[0m in \u001b[0;36m<module>\u001b[1;34m\u001b[0m\n\u001b[1;32m----> 1\u001b[1;33m \u001b[0mp1\u001b[0m\u001b[1;33m=\u001b[0m\u001b[0mint\u001b[0m\u001b[1;33m(\u001b[0m\u001b[0mp\u001b[0m\u001b[1;33m)\u001b[0m\u001b[1;33m+\u001b[0m\u001b[0mint\u001b[0m\u001b[1;33m(\u001b[0m\u001b[0mp\u001b[0m\u001b[1;33m)\u001b[0m\u001b[1;33m*\u001b[0m\u001b[0mint\u001b[0m\u001b[1;33m(\u001b[0m\u001b[0mn\u001b[0m\u001b[1;33m)\u001b[0m\u001b[1;33m*\u001b[0m\u001b[0mfloat\u001b[0m\u001b[1;33m(\u001b[0m\u001b[0mr\u001b[0m\u001b[1;33m)\u001b[0m\u001b[1;33m\u001b[0m\u001b[1;33m\u001b[0m\u001b[0m\n\u001b[0m\u001b[0;32m      2\u001b[0m \u001b[1;33m\u001b[0m\u001b[0m\n",
      "\u001b[1;31mNameError\u001b[0m: name 'n' is not defined"
     ]
    }
   ],
   "source": [
    "p1=int(p)+int(p)*int(n)*float(r)\n",
    "                    "
   ]
  },
  {
   "cell_type": "code",
   "execution_count": 14,
   "id": "87bbd755-a0ca-4ffd-a8b8-c65e62072938",
   "metadata": {},
   "outputs": [
    {
     "name": "stdin",
     "output_type": "stream",
     "text": [
      "n 3\n"
     ]
    }
   ],
   "source": [
    "n=input(\"n\")"
   ]
  },
  {
   "cell_type": "code",
   "execution_count": 15,
   "id": "2ded4466-7686-4eea-b56b-c62bef10f8e8",
   "metadata": {},
   "outputs": [],
   "source": [
    "p1=int(p)+int(p)*int(n)*float(r)"
   ]
  },
  {
   "cell_type": "code",
   "execution_count": 16,
   "id": "8fcfa67f-fc26-4483-8871-d00ffb14b778",
   "metadata": {},
   "outputs": [
    {
     "name": "stdout",
     "output_type": "stream",
     "text": [
      "5750.0\n"
     ]
    }
   ],
   "source": [
    "print(p1)"
   ]
  },
  {
   "cell_type": "code",
   "execution_count": null,
   "id": "00dd7add-8d58-403e-8fd4-2606c860a3b0",
   "metadata": {},
   "outputs": [],
   "source": []
  }
 ],
 "metadata": {
  "kernelspec": {
   "display_name": "Python 3",
   "language": "python",
   "name": "python3"
  },
  "language_info": {
   "codemirror_mode": {
    "name": "ipython",
    "version": 3
   },
   "file_extension": ".py",
   "mimetype": "text/x-python",
   "name": "python",
   "nbconvert_exporter": "python",
   "pygments_lexer": "ipython3",
   "version": "3.8.8"
  }
 },
 "nbformat": 4,
 "nbformat_minor": 5
}
