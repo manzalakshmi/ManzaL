{
 "cells": [
  {
   "cell_type": "code",
   "execution_count": 1,
   "id": "f299d8a3-9410-4161-bb24-b704c4b3de0c",
   "metadata": {},
   "outputs": [
    {
     "name": "stdout",
     "output_type": "stream",
     "text": [
      "manza lakshmi\n"
     ]
    }
   ],
   "source": [
    "print(\"manza lakshmi\")"
   ]
  },
  {
   "cell_type": "code",
   "execution_count": 2,
   "id": "c1654d7b-c07e-46e2-a69e-9225a9555ac8",
   "metadata": {},
   "outputs": [
    {
     "name": "stdout",
     "output_type": "stream",
     "text": [
      "keerthana\n"
     ]
    }
   ],
   "source": [
    "print(\"keerthana\")"
   ]
  },
  {
   "cell_type": "code",
   "execution_count": 3,
   "id": "89e31804-02b2-4cd7-9fc6-58db41e3b612",
   "metadata": {},
   "outputs": [],
   "source": [
    "x=10"
   ]
  },
  {
   "cell_type": "code",
   "execution_count": 4,
   "id": "0f9e60dc-9847-4848-ae28-7fb0df062690",
   "metadata": {},
   "outputs": [
    {
     "name": "stdout",
     "output_type": "stream",
     "text": [
      "10\n"
     ]
    }
   ],
   "source": [
    "print(x)"
   ]
  },
  {
   "cell_type": "code",
   "execution_count": 8,
   "id": "34ff07d8-da0d-4cce-856e-84bb555e2d45",
   "metadata": {},
   "outputs": [],
   "source": [
    "x=\"india\""
   ]
  },
  {
   "cell_type": "code",
   "execution_count": 9,
   "id": "5dc4404a-6c8c-405e-a1c9-0b2b23611f00",
   "metadata": {},
   "outputs": [
    {
     "name": "stdout",
     "output_type": "stream",
     "text": [
      "india\n"
     ]
    }
   ],
   "source": [
    "print(x)"
   ]
  },
  {
   "cell_type": "code",
   "execution_count": 11,
   "id": "24d768c7-eee5-4a98-9e19-dfc577ade603",
   "metadata": {},
   "outputs": [],
   "source": [
    "y=20"
   ]
  },
  {
   "cell_type": "code",
   "execution_count": 12,
   "id": "79db89c7-d5f0-4047-a301-ce3c93b10191",
   "metadata": {},
   "outputs": [
    {
     "name": "stdout",
     "output_type": "stream",
     "text": [
      "20\n"
     ]
    }
   ],
   "source": [
    "print(y)"
   ]
  },
  {
   "cell_type": "code",
   "execution_count": 15,
   "id": "f95f33e9-8ea3-4d6f-a0f6-671ae909c793",
   "metadata": {},
   "outputs": [
    {
     "ename": "SyntaxError",
     "evalue": "invalid syntax (<ipython-input-15-2ff1f06abb52>, line 1)",
     "output_type": "error",
     "traceback": [
      "\u001b[1;36m  File \u001b[1;32m\"<ipython-input-15-2ff1f06abb52>\"\u001b[1;36m, line \u001b[1;32m1\u001b[0m\n\u001b[1;33m    print(x)print(y)\u001b[0m\n\u001b[1;37m            ^\u001b[0m\n\u001b[1;31mSyntaxError\u001b[0m\u001b[1;31m:\u001b[0m invalid syntax\n"
     ]
    }
   ],
   "source": [
    "print(x)print(y)"
   ]
  },
  {
   "cell_type": "code",
   "execution_count": 16,
   "id": "7dd66c32-02a9-485f-927f-73ec77f73714",
   "metadata": {},
   "outputs": [],
   "source": [
    "x=2002\n",
    "y=\"february\"\n",
    "z=85"
   ]
  },
  {
   "cell_type": "code",
   "execution_count": 18,
   "id": "62c845ff-d709-4bcb-86af-9ba887d9bdd2",
   "metadata": {},
   "outputs": [
    {
     "name": "stdout",
     "output_type": "stream",
     "text": [
      "2002 february 85\n"
     ]
    }
   ],
   "source": [
    "print(x,y,z)"
   ]
  },
  {
   "cell_type": "code",
   "execution_count": 19,
   "id": "66acda76-2bda-47f1-9185-c38f06b22b7a",
   "metadata": {},
   "outputs": [
    {
     "data": {
      "text/plain": [
       "int"
      ]
     },
     "execution_count": 19,
     "metadata": {},
     "output_type": "execute_result"
    }
   ],
   "source": [
    "type(x)"
   ]
  },
  {
   "cell_type": "code",
   "execution_count": 20,
   "id": "32e2b0a0-70ad-4208-854c-8bc0a8131455",
   "metadata": {},
   "outputs": [
    {
     "data": {
      "text/plain": [
       "str"
      ]
     },
     "execution_count": 20,
     "metadata": {},
     "output_type": "execute_result"
    }
   ],
   "source": [
    "type(y)"
   ]
  },
  {
   "cell_type": "code",
   "execution_count": 21,
   "id": "b7c5def1-1def-455e-9522-27797dac85b4",
   "metadata": {},
   "outputs": [
    {
     "data": {
      "text/plain": [
       "int"
      ]
     },
     "execution_count": 21,
     "metadata": {},
     "output_type": "execute_result"
    }
   ],
   "source": [
    "type(z)"
   ]
  },
  {
   "cell_type": "code",
   "execution_count": 24,
   "id": "8d2c0e47-2e0f-41e5-98b4-d4f6888b0ef9",
   "metadata": {},
   "outputs": [
    {
     "ename": "TypeError",
     "evalue": "type() takes 1 or 3 arguments",
     "output_type": "error",
     "traceback": [
      "\u001b[1;31m---------------------------------------------------------------------------\u001b[0m",
      "\u001b[1;31mTypeError\u001b[0m                                 Traceback (most recent call last)",
      "\u001b[1;32m<ipython-input-24-e79647f4e17d>\u001b[0m in \u001b[0;36m<module>\u001b[1;34m\u001b[0m\n\u001b[1;32m----> 1\u001b[1;33m \u001b[0mtype\u001b[0m\u001b[1;33m(\u001b[0m\u001b[0mx\u001b[0m\u001b[1;33m,\u001b[0m\u001b[0my\u001b[0m\u001b[1;33m)\u001b[0m\u001b[1;33m\u001b[0m\u001b[1;33m\u001b[0m\u001b[0m\n\u001b[0m",
      "\u001b[1;31mTypeError\u001b[0m: type() takes 1 or 3 arguments"
     ]
    }
   ],
   "source": [
    "type(x,y)"
   ]
  },
  {
   "cell_type": "code",
   "execution_count": 27,
   "id": "dd709035-e20d-4860-af7d-fcf82ba24165",
   "metadata": {},
   "outputs": [],
   "source": [
    "x=10\n",
    "y=10.5\n",
    "z=x+y"
   ]
  },
  {
   "cell_type": "code",
   "execution_count": 28,
   "id": "4fa9c044-da5f-4ecd-8c8f-c56301c25d2a",
   "metadata": {},
   "outputs": [
    {
     "name": "stdout",
     "output_type": "stream",
     "text": [
      "20.5\n"
     ]
    }
   ],
   "source": [
    "print(z)"
   ]
  },
  {
   "cell_type": "code",
   "execution_count": 29,
   "id": "096a1d72-eee3-4a7d-ae14-759c8a80e78e",
   "metadata": {},
   "outputs": [
    {
     "data": {
      "text/plain": [
       "float"
      ]
     },
     "execution_count": 29,
     "metadata": {},
     "output_type": "execute_result"
    }
   ],
   "source": [
    "type(z)"
   ]
  },
  {
   "cell_type": "code",
   "execution_count": 30,
   "id": "2501338e-14ad-4df5-9caa-472a14b51f7c",
   "metadata": {},
   "outputs": [],
   "source": [
    "x=10\n",
    "y=10.0\n"
   ]
  },
  {
   "cell_type": "code",
   "execution_count": 31,
   "id": "9160fb42-d2da-404f-82e9-da24a015c5e4",
   "metadata": {},
   "outputs": [
    {
     "name": "stdout",
     "output_type": "stream",
     "text": [
      "20.0\n"
     ]
    }
   ],
   "source": [
    "print(x+y)"
   ]
  },
  {
   "cell_type": "code",
   "execution_count": 32,
   "id": "3c5d2ddc-1e67-4cda-812b-2ca8dab509be",
   "metadata": {},
   "outputs": [
    {
     "data": {
      "text/plain": [
       "float"
      ]
     },
     "execution_count": 32,
     "metadata": {},
     "output_type": "execute_result"
    }
   ],
   "source": [
    "type(x+y)"
   ]
  },
  {
   "cell_type": "code",
   "execution_count": 45,
   "id": "557fe566-a5a7-41e3-b30f-c437d7e9845d",
   "metadata": {},
   "outputs": [],
   "source": [
    "x=\"india\"\n",
    "y=\"is\"\n",
    "z=\"my country\"\n",
    "a=x+y+z"
   ]
  },
  {
   "cell_type": "code",
   "execution_count": 46,
   "id": "df188543-cd48-44f7-8ad9-95f64394de97",
   "metadata": {},
   "outputs": [
    {
     "name": "stdout",
     "output_type": "stream",
     "text": [
      "indiaismy country\n"
     ]
    }
   ],
   "source": [
    "print(a)"
   ]
  },
  {
   "cell_type": "code",
   "execution_count": 47,
   "id": "f5e0b88a-24b7-494b-ab1e-d2dcc7801553",
   "metadata": {},
   "outputs": [],
   "source": [
    "a=x+\" \"+y+\" \"+z"
   ]
  },
  {
   "cell_type": "code",
   "execution_count": 49,
   "id": "ed9492be-9aaa-4805-843f-8c50049f5c43",
   "metadata": {},
   "outputs": [
    {
     "name": "stdout",
     "output_type": "stream",
     "text": [
      "india is my country\n"
     ]
    }
   ],
   "source": [
    "print(a)"
   ]
  },
  {
   "cell_type": "code",
   "execution_count": 50,
   "id": "9b44fec2-2a87-4904-b9fb-abcc0103a550",
   "metadata": {},
   "outputs": [],
   "source": [
    "x=\"india\"\n",
    "y=\"is\"\n",
    "z=\"my country\"\n",
    "a=x+y+z"
   ]
  },
  {
   "cell_type": "code",
   "execution_count": 51,
   "id": "83a62fea-e531-40b0-929b-0324b422d031",
   "metadata": {},
   "outputs": [
    {
     "name": "stdout",
     "output_type": "stream",
     "text": [
      "indiaismy country\n"
     ]
    }
   ],
   "source": [
    "print(a)"
   ]
  },
  {
   "cell_type": "code",
   "execution_count": 52,
   "id": "15ad874c-05e3-4417-b865-09361017bd3b",
   "metadata": {},
   "outputs": [],
   "source": [
    "a=x+\" \"+y+\" \"+z"
   ]
  },
  {
   "cell_type": "code",
   "execution_count": 53,
   "id": "b0ca8266-020e-4b14-949e-60963a18b2dd",
   "metadata": {},
   "outputs": [
    {
     "name": "stdout",
     "output_type": "stream",
     "text": [
      "india is my country\n"
     ]
    }
   ],
   "source": [
    "print(a)"
   ]
  },
  {
   "cell_type": "code",
   "execution_count": null,
   "id": "323acc62-86b0-416f-883e-a9529de4a012",
   "metadata": {},
   "outputs": [],
   "source": []
  }
 ],
 "metadata": {
  "kernelspec": {
   "display_name": "Python 3",
   "language": "python",
   "name": "python3"
  },
  "language_info": {
   "codemirror_mode": {
    "name": "ipython",
    "version": 3
   },
   "file_extension": ".py",
   "mimetype": "text/x-python",
   "name": "python",
   "nbconvert_exporter": "python",
   "pygments_lexer": "ipython3",
   "version": "3.8.8"
  }
 },
 "nbformat": 4,
 "nbformat_minor": 5
}
