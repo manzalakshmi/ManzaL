{
 "cells": [
  {
   "cell_type": "code",
   "execution_count": 1,
   "id": "4aa08205-9edf-42c7-9603-841cfb392f19",
   "metadata": {},
   "outputs": [],
   "source": [
    "xx=100\n",
    "xy=200"
   ]
  },
  {
   "cell_type": "code",
   "execution_count": 2,
   "id": "5a5fe830-dcbc-4e94-a328-dad1d1caa3d7",
   "metadata": {},
   "outputs": [
    {
     "data": {
      "text/plain": [
       "300"
      ]
     },
     "execution_count": 2,
     "metadata": {},
     "output_type": "execute_result"
    }
   ],
   "source": [
    "xx+xy"
   ]
  },
  {
   "cell_type": "code",
   "execution_count": 3,
   "id": "9b8a2fd8-5df7-44fd-8084-5eb454deb50c",
   "metadata": {},
   "outputs": [],
   "source": [
    "manza=1000\n",
    "lakshmi=5000"
   ]
  },
  {
   "cell_type": "code",
   "execution_count": 4,
   "id": "d016ffcf-37cc-4833-828e-7008a27f2952",
   "metadata": {},
   "outputs": [
    {
     "data": {
      "text/plain": [
       "6000"
      ]
     },
     "execution_count": 4,
     "metadata": {},
     "output_type": "execute_result"
    }
   ],
   "source": [
    "manza+lakshmi"
   ]
  },
  {
   "cell_type": "code",
   "execution_count": 5,
   "id": "b5ce93e0-989a-450f-a4a8-760b8cc41c27",
   "metadata": {},
   "outputs": [],
   "source": [
    "print=100"
   ]
  },
  {
   "cell_type": "code",
   "execution_count": 7,
   "id": "46c22568-ad50-4f3f-bd53-a5cf44a05248",
   "metadata": {},
   "outputs": [
    {
     "ename": "TypeError",
     "evalue": "'int' object is not callable",
     "output_type": "error",
     "traceback": [
      "\u001b[1;31m---------------------------------------------------------------------------\u001b[0m",
      "\u001b[1;31mTypeError\u001b[0m                                 Traceback (most recent call last)",
      "\u001b[1;32m<ipython-input-7-edd7d4a79ef4>\u001b[0m in \u001b[0;36m<module>\u001b[1;34m\u001b[0m\n\u001b[1;32m----> 1\u001b[1;33m \u001b[0mint\u001b[0m\u001b[1;33m(\u001b[0m\u001b[0mprint\u001b[0m\u001b[1;33m(\u001b[0m\u001b[1;34m\"print\"\u001b[0m\u001b[1;33m)\u001b[0m\u001b[1;33m)\u001b[0m\u001b[1;33m\u001b[0m\u001b[1;33m\u001b[0m\u001b[0m\n\u001b[0m",
      "\u001b[1;31mTypeError\u001b[0m: 'int' object is not callable"
     ]
    }
   ],
   "source": [
    "print(\"print\")"
   ]
  },
  {
   "cell_type": "code",
   "execution_count": 8,
   "id": "473fa886-1ce8-4a81-8b2f-26514139bf11",
   "metadata": {},
   "outputs": [],
   "source": [
    "ABC=100"
   ]
  },
  {
   "cell_type": "code",
   "execution_count": 9,
   "id": "62e6d112-637c-4ab4-b00b-ec107c834fff",
   "metadata": {},
   "outputs": [],
   "source": [
    "Abc=100"
   ]
  },
  {
   "cell_type": "code",
   "execution_count": 13,
   "id": "c81bb61a-b2a4-4d66-a671-1e2fa2095629",
   "metadata": {},
   "outputs": [],
   "source": [
    "aBC=100"
   ]
  },
  {
   "cell_type": "code",
   "execution_count": 12,
   "id": "a1addf1b-2edd-4b2a-bc9a-0c7cb1d137de",
   "metadata": {},
   "outputs": [],
   "source": [
    "abc=100"
   ]
  },
  {
   "cell_type": "code",
   "execution_count": 16,
   "id": "8d200a7e-0c23-4e20-8789-2f106900a608",
   "metadata": {},
   "outputs": [],
   "source": [
    "#1abc=10"
   ]
  },
  {
   "cell_type": "code",
   "execution_count": 17,
   "id": "96183b81-6b6b-49d0-9179-30b53cc2d755",
   "metadata": {},
   "outputs": [],
   "source": [
    "#a b=10"
   ]
  },
  {
   "cell_type": "code",
   "execution_count": 23,
   "id": "620d286b-118b-4279-91c6-b47c09e1d4a0",
   "metadata": {},
   "outputs": [],
   "source": [
    "x,y,z,a=\"kooooooooothara\",\"nehamma\",\"reeeeshaaaal\",\"aleeeeeeenaaaaaaaa\""
   ]
  },
  {
   "cell_type": "code",
   "execution_count": 24,
   "id": "1ce4f0fa-4127-4fce-a34b-5dc1997d94c2",
   "metadata": {},
   "outputs": [
    {
     "data": {
      "text/plain": [
       "'kooooooooothara'"
      ]
     },
     "execution_count": 24,
     "metadata": {},
     "output_type": "execute_result"
    }
   ],
   "source": [
    "x"
   ]
  },
  {
   "cell_type": "code",
   "execution_count": 20,
   "id": "bb3f8b97-e744-478c-ae0f-c27657f3e9ab",
   "metadata": {},
   "outputs": [
    {
     "data": {
      "text/plain": [
       "'nehamma'"
      ]
     },
     "execution_count": 20,
     "metadata": {},
     "output_type": "execute_result"
    }
   ],
   "source": [
    "y"
   ]
  },
  {
   "cell_type": "code",
   "execution_count": 21,
   "id": "86930762-df0f-4322-8468-8d838250178f",
   "metadata": {},
   "outputs": [
    {
     "data": {
      "text/plain": [
       "'reeeeshaaaal'"
      ]
     },
     "execution_count": 21,
     "metadata": {},
     "output_type": "execute_result"
    }
   ],
   "source": [
    "z"
   ]
  },
  {
   "cell_type": "code",
   "execution_count": 22,
   "id": "80e59f2f-34fc-4698-b691-192ea14b5638",
   "metadata": {},
   "outputs": [
    {
     "data": {
      "text/plain": [
       "'aleeeeeeenaaaaaaaa'"
      ]
     },
     "execution_count": 22,
     "metadata": {},
     "output_type": "execute_result"
    }
   ],
   "source": [
    "a"
   ]
  },
  {
   "cell_type": "code",
   "execution_count": 25,
   "id": "94c2fa53-b4e7-46e6-a182-d4d22af721a8",
   "metadata": {},
   "outputs": [],
   "source": [
    "x,y,z=\"orange\",\"banana\",2"
   ]
  },
  {
   "cell_type": "code",
   "execution_count": 26,
   "id": "0fc6b39f-5cc2-4ceb-bbfc-309097df8677",
   "metadata": {},
   "outputs": [
    {
     "data": {
      "text/plain": [
       "'orange'"
      ]
     },
     "execution_count": 26,
     "metadata": {},
     "output_type": "execute_result"
    }
   ],
   "source": [
    "x"
   ]
  },
  {
   "cell_type": "code",
   "execution_count": 27,
   "id": "ffed9dca-1c7b-44e0-a2cb-980c7486707d",
   "metadata": {},
   "outputs": [
    {
     "data": {
      "text/plain": [
       "'banana'"
      ]
     },
     "execution_count": 27,
     "metadata": {},
     "output_type": "execute_result"
    }
   ],
   "source": [
    "y"
   ]
  },
  {
   "cell_type": "code",
   "execution_count": 28,
   "id": "71f2af1e-9fe6-45b6-86d2-7312a576d205",
   "metadata": {},
   "outputs": [
    {
     "data": {
      "text/plain": [
       "2"
      ]
     },
     "execution_count": 28,
     "metadata": {},
     "output_type": "execute_result"
    }
   ],
   "source": [
    "z"
   ]
  },
  {
   "cell_type": "code",
   "execution_count": 47,
   "id": "6764ef7d-429d-45a4-a098-1f43f0adc53a",
   "metadata": {},
   "outputs": [],
   "source": [
    "import math as a"
   ]
  },
  {
   "cell_type": "code",
   "execution_count": 53,
   "id": "6e327c30-b297-4a80-a7f8-92c9fac93127",
   "metadata": {},
   "outputs": [
    {
     "data": {
      "text/plain": [
       "3.141592653589793"
      ]
     },
     "execution_count": 53,
     "metadata": {},
     "output_type": "execute_result"
    }
   ],
   "source": [
    "a.pi"
   ]
  },
  {
   "cell_type": "code",
   "execution_count": 54,
   "id": "a9648c4c-2065-43bd-be25-1e6b48df47d5",
   "metadata": {},
   "outputs": [
    {
     "data": {
      "text/plain": [
       "1.0"
      ]
     },
     "execution_count": 54,
     "metadata": {},
     "output_type": "execute_result"
    }
   ],
   "source": [
    "a.cos(0)"
   ]
  },
  {
   "cell_type": "code",
   "execution_count": 55,
   "id": "4d9b6ae6-4a7f-4c84-b439-a4f9fd0a970a",
   "metadata": {},
   "outputs": [
    {
     "data": {
      "text/plain": [
       "1.0"
      ]
     },
     "execution_count": 55,
     "metadata": {},
     "output_type": "execute_result"
    }
   ],
   "source": [
    "a.sin(a.pi/2)"
   ]
  },
  {
   "cell_type": "code",
   "execution_count": 1,
   "id": "ee927c00-1b27-441a-8db1-31c51d2eea5e",
   "metadata": {},
   "outputs": [
    {
     "name": "stdin",
     "output_type": "stream",
     "text": [
      "enter first number = 1\n",
      "1 for sin or 2 for cos 2\n"
     ]
    },
    {
     "name": "stdout",
     "output_type": "stream",
     "text": [
      "0.5403023058681398\n"
     ]
    }
   ],
   "source": [
    "x=int(input(\"enter first number =\"))\n",
    "y=int(input(\"1 for sin or 2 for cos\"))\n",
    "import math as a\n",
    "if y==1 :\n",
    "    print(a.sin(x))\n",
    "if y==2 :\n",
    "    print(a.cos(x))\n"
   ]
  },
  {
   "cell_type": "code",
   "execution_count": 2,
   "id": "a99ecb93-17cb-4d18-a38f-fc917386af8c",
   "metadata": {},
   "outputs": [],
   "source": [
    "def manza():\n",
    "    x=int(input(\"enter sum number :\"))\n",
    "    print(\"sq of x =\", x*x)"
   ]
  },
  {
   "cell_type": "code",
   "execution_count": 4,
   "id": "5bf7996f-c907-45f8-a634-a6d8bb731a55",
   "metadata": {},
   "outputs": [
    {
     "name": "stdin",
     "output_type": "stream",
     "text": [
      "enter sum number : 78\n"
     ]
    },
    {
     "name": "stdout",
     "output_type": "stream",
     "text": [
      "sq of x = 6084\n"
     ]
    }
   ],
   "source": [
    "manza()"
   ]
  },
  {
   "cell_type": "code",
   "execution_count": 5,
   "id": "22db8e45-4c28-478b-8cb4-12de367af08f",
   "metadata": {},
   "outputs": [
    {
     "name": "stdin",
     "output_type": "stream",
     "text": [
      "enter sum number : 23\n",
      "enter sum number : 33\n"
     ]
    },
    {
     "name": "stdout",
     "output_type": "stream",
     "text": [
      "sq of x = 1089\n"
     ]
    }
   ],
   "source": [
    "x=int(input(\"enter sum number :\"))\n",
    "manza()"
   ]
  },
  {
   "cell_type": "code",
   "execution_count": null,
   "id": "a5400515-b6e1-48cb-8763-745f119afb01",
   "metadata": {},
   "outputs": [],
   "source": []
  }
 ],
 "metadata": {
  "kernelspec": {
   "display_name": "Python 3",
   "language": "python",
   "name": "python3"
  },
  "language_info": {
   "codemirror_mode": {
    "name": "ipython",
    "version": 3
   },
   "file_extension": ".py",
   "mimetype": "text/x-python",
   "name": "python",
   "nbconvert_exporter": "python",
   "pygments_lexer": "ipython3",
   "version": "3.8.8"
  }
 },
 "nbformat": 4,
 "nbformat_minor": 5
}
